{
 "cells": [
  {
   "cell_type": "code",
   "execution_count": 1,
   "metadata": {
    "ExecuteTime": {
     "end_time": "2019-05-04T13:30:54.618528Z",
     "start_time": "2019-05-04T13:30:53.196249Z"
    }
   },
   "outputs": [
    {
     "data": {
      "text/plain": [
       "'1.13.1'"
      ]
     },
     "execution_count": 1,
     "metadata": {},
     "output_type": "execute_result"
    }
   ],
   "source": [
    "# Load packages\n",
    "import os\n",
    "import numpy as np\n",
    "import pandas as pd\n",
    "import tensorflow as tf\n",
    "\n",
    "tf.__version__"
   ]
  },
  {
   "cell_type": "code",
   "execution_count": 2,
   "metadata": {
    "ExecuteTime": {
     "end_time": "2019-05-04T13:30:54.686795Z",
     "start_time": "2019-05-04T13:30:54.620762Z"
    }
   },
   "outputs": [
    {
     "name": "stdout",
     "output_type": "stream",
     "text": [
      "(150, 6)\n",
      "Index(['Id', 'SepalLengthCm', 'SepalWidthCm', 'PetalLengthCm', 'PetalWidthCm',\n",
      "       'Species'],\n",
      "      dtype='object')\n"
     ]
    }
   ],
   "source": [
    "# Load data\n",
    "data = pd.read_csv(\"/Users/nityansuman/__data__/iris-dataset.csv\")\n",
    "\n",
    "print(data.shape)\n",
    "\n",
    "print(data.columns)"
   ]
  },
  {
   "cell_type": "code",
   "execution_count": 3,
   "metadata": {
    "ExecuteTime": {
     "end_time": "2019-05-04T13:30:54.699923Z",
     "start_time": "2019-05-04T13:30:54.689192Z"
    }
   },
   "outputs": [
    {
     "data": {
      "text/html": [
       "<div>\n",
       "<style scoped>\n",
       "    .dataframe tbody tr th:only-of-type {\n",
       "        vertical-align: middle;\n",
       "    }\n",
       "\n",
       "    .dataframe tbody tr th {\n",
       "        vertical-align: top;\n",
       "    }\n",
       "\n",
       "    .dataframe thead th {\n",
       "        text-align: right;\n",
       "    }\n",
       "</style>\n",
       "<table border=\"1\" class=\"dataframe\">\n",
       "  <thead>\n",
       "    <tr style=\"text-align: right;\">\n",
       "      <th></th>\n",
       "      <th>Id</th>\n",
       "      <th>SepalLengthCm</th>\n",
       "      <th>SepalWidthCm</th>\n",
       "      <th>PetalLengthCm</th>\n",
       "      <th>PetalWidthCm</th>\n",
       "      <th>Species</th>\n",
       "    </tr>\n",
       "  </thead>\n",
       "  <tbody>\n",
       "    <tr>\n",
       "      <th>0</th>\n",
       "      <td>1</td>\n",
       "      <td>5.1</td>\n",
       "      <td>3.5</td>\n",
       "      <td>1.4</td>\n",
       "      <td>0.2</td>\n",
       "      <td>Iris-setosa</td>\n",
       "    </tr>\n",
       "    <tr>\n",
       "      <th>1</th>\n",
       "      <td>2</td>\n",
       "      <td>4.9</td>\n",
       "      <td>3.0</td>\n",
       "      <td>1.4</td>\n",
       "      <td>0.2</td>\n",
       "      <td>Iris-setosa</td>\n",
       "    </tr>\n",
       "    <tr>\n",
       "      <th>2</th>\n",
       "      <td>3</td>\n",
       "      <td>4.7</td>\n",
       "      <td>3.2</td>\n",
       "      <td>1.3</td>\n",
       "      <td>0.2</td>\n",
       "      <td>Iris-setosa</td>\n",
       "    </tr>\n",
       "  </tbody>\n",
       "</table>\n",
       "</div>"
      ],
      "text/plain": [
       "   Id  SepalLengthCm  SepalWidthCm  PetalLengthCm  PetalWidthCm      Species\n",
       "0   1            5.1           3.5            1.4           0.2  Iris-setosa\n",
       "1   2            4.9           3.0            1.4           0.2  Iris-setosa\n",
       "2   3            4.7           3.2            1.3           0.2  Iris-setosa"
      ]
     },
     "execution_count": 3,
     "metadata": {},
     "output_type": "execute_result"
    }
   ],
   "source": [
    "# View\n",
    "data.head(3)"
   ]
  },
  {
   "cell_type": "code",
   "execution_count": 4,
   "metadata": {
    "ExecuteTime": {
     "end_time": "2019-05-04T13:30:54.706333Z",
     "start_time": "2019-05-04T13:30:54.701945Z"
    }
   },
   "outputs": [
    {
     "data": {
      "text/plain": [
       "array(['Iris-setosa', 'Iris-versicolor', 'Iris-virginica'], dtype=object)"
      ]
     },
     "execution_count": 4,
     "metadata": {},
     "output_type": "execute_result"
    }
   ],
   "source": [
    "# Get class labels\n",
    "class_labels = data.Species.unique()\n",
    "\n",
    "class_labels"
   ]
  },
  {
   "cell_type": "code",
   "execution_count": 5,
   "metadata": {
    "ExecuteTime": {
     "end_time": "2019-05-04T13:30:54.716387Z",
     "start_time": "2019-05-04T13:30:54.708102Z"
    }
   },
   "outputs": [
    {
     "data": {
      "text/plain": [
       "{'Iris-setosa': 0, 'Iris-versicolor': 1, 'Iris-virginica': 2}"
      ]
     },
     "execution_count": 5,
     "metadata": {},
     "output_type": "execute_result"
    }
   ],
   "source": [
    "# Categorize labels\n",
    "class_label_mapping = dict(zip(class_labels, range(len(class_labels))))\n",
    "\n",
    "class_label_mapping"
   ]
  },
  {
   "cell_type": "code",
   "execution_count": 6,
   "metadata": {
    "ExecuteTime": {
     "end_time": "2019-05-04T13:30:54.728973Z",
     "start_time": "2019-05-04T13:30:54.717861Z"
    }
   },
   "outputs": [
    {
     "data": {
      "text/html": [
       "<div>\n",
       "<style scoped>\n",
       "    .dataframe tbody tr th:only-of-type {\n",
       "        vertical-align: middle;\n",
       "    }\n",
       "\n",
       "    .dataframe tbody tr th {\n",
       "        vertical-align: top;\n",
       "    }\n",
       "\n",
       "    .dataframe thead th {\n",
       "        text-align: right;\n",
       "    }\n",
       "</style>\n",
       "<table border=\"1\" class=\"dataframe\">\n",
       "  <thead>\n",
       "    <tr style=\"text-align: right;\">\n",
       "      <th></th>\n",
       "      <th>Id</th>\n",
       "      <th>SepalLengthCm</th>\n",
       "      <th>SepalWidthCm</th>\n",
       "      <th>PetalLengthCm</th>\n",
       "      <th>PetalWidthCm</th>\n",
       "      <th>Species</th>\n",
       "    </tr>\n",
       "  </thead>\n",
       "  <tbody>\n",
       "    <tr>\n",
       "      <th>0</th>\n",
       "      <td>1</td>\n",
       "      <td>5.1</td>\n",
       "      <td>3.5</td>\n",
       "      <td>1.4</td>\n",
       "      <td>0.2</td>\n",
       "      <td>0</td>\n",
       "    </tr>\n",
       "    <tr>\n",
       "      <th>1</th>\n",
       "      <td>2</td>\n",
       "      <td>4.9</td>\n",
       "      <td>3.0</td>\n",
       "      <td>1.4</td>\n",
       "      <td>0.2</td>\n",
       "      <td>0</td>\n",
       "    </tr>\n",
       "    <tr>\n",
       "      <th>2</th>\n",
       "      <td>3</td>\n",
       "      <td>4.7</td>\n",
       "      <td>3.2</td>\n",
       "      <td>1.3</td>\n",
       "      <td>0.2</td>\n",
       "      <td>0</td>\n",
       "    </tr>\n",
       "  </tbody>\n",
       "</table>\n",
       "</div>"
      ],
      "text/plain": [
       "   Id  SepalLengthCm  SepalWidthCm  PetalLengthCm  PetalWidthCm  Species\n",
       "0   1            5.1           3.5            1.4           0.2        0\n",
       "1   2            4.9           3.0            1.4           0.2        0\n",
       "2   3            4.7           3.2            1.3           0.2        0"
      ]
     },
     "execution_count": 6,
     "metadata": {},
     "output_type": "execute_result"
    }
   ],
   "source": [
    "# Map class labels\n",
    "data.Species = data.Species.apply(lambda x: class_label_mapping[x])\n",
    "\n",
    "data.head(3)"
   ]
  },
  {
   "cell_type": "code",
   "execution_count": 7,
   "metadata": {
    "ExecuteTime": {
     "end_time": "2019-05-04T13:30:54.741658Z",
     "start_time": "2019-05-04T13:30:54.730534Z"
    }
   },
   "outputs": [
    {
     "data": {
      "text/plain": [
       "(100, 6)"
      ]
     },
     "execution_count": 7,
     "metadata": {},
     "output_type": "execute_result"
    }
   ],
   "source": [
    "# Select labels in [0, 1]\n",
    "data = data[data.Species < 2]\n",
    "\n",
    "data.shape"
   ]
  },
  {
   "cell_type": "code",
   "execution_count": 8,
   "metadata": {
    "ExecuteTime": {
     "end_time": "2019-05-04T13:30:54.755874Z",
     "start_time": "2019-05-04T13:30:54.745384Z"
    }
   },
   "outputs": [
    {
     "data": {
      "text/html": [
       "<div>\n",
       "<style scoped>\n",
       "    .dataframe tbody tr th:only-of-type {\n",
       "        vertical-align: middle;\n",
       "    }\n",
       "\n",
       "    .dataframe tbody tr th {\n",
       "        vertical-align: top;\n",
       "    }\n",
       "\n",
       "    .dataframe thead th {\n",
       "        text-align: right;\n",
       "    }\n",
       "</style>\n",
       "<table border=\"1\" class=\"dataframe\">\n",
       "  <thead>\n",
       "    <tr style=\"text-align: right;\">\n",
       "      <th></th>\n",
       "      <th>Id</th>\n",
       "      <th>SepalLengthCm</th>\n",
       "      <th>SepalWidthCm</th>\n",
       "      <th>PetalLengthCm</th>\n",
       "      <th>PetalWidthCm</th>\n",
       "      <th>Species</th>\n",
       "    </tr>\n",
       "  </thead>\n",
       "  <tbody>\n",
       "    <tr>\n",
       "      <th>0</th>\n",
       "      <td>1</td>\n",
       "      <td>5.1</td>\n",
       "      <td>3.5</td>\n",
       "      <td>1.4</td>\n",
       "      <td>0.2</td>\n",
       "      <td>0</td>\n",
       "    </tr>\n",
       "    <tr>\n",
       "      <th>1</th>\n",
       "      <td>2</td>\n",
       "      <td>4.9</td>\n",
       "      <td>3.0</td>\n",
       "      <td>1.4</td>\n",
       "      <td>0.2</td>\n",
       "      <td>0</td>\n",
       "    </tr>\n",
       "    <tr>\n",
       "      <th>2</th>\n",
       "      <td>3</td>\n",
       "      <td>4.7</td>\n",
       "      <td>3.2</td>\n",
       "      <td>1.3</td>\n",
       "      <td>0.2</td>\n",
       "      <td>0</td>\n",
       "    </tr>\n",
       "    <tr>\n",
       "      <th>3</th>\n",
       "      <td>4</td>\n",
       "      <td>4.6</td>\n",
       "      <td>3.1</td>\n",
       "      <td>1.5</td>\n",
       "      <td>0.2</td>\n",
       "      <td>0</td>\n",
       "    </tr>\n",
       "    <tr>\n",
       "      <th>4</th>\n",
       "      <td>5</td>\n",
       "      <td>5.0</td>\n",
       "      <td>3.6</td>\n",
       "      <td>1.4</td>\n",
       "      <td>0.2</td>\n",
       "      <td>0</td>\n",
       "    </tr>\n",
       "  </tbody>\n",
       "</table>\n",
       "</div>"
      ],
      "text/plain": [
       "   Id  SepalLengthCm  SepalWidthCm  PetalLengthCm  PetalWidthCm  Species\n",
       "0   1            5.1           3.5            1.4           0.2        0\n",
       "1   2            4.9           3.0            1.4           0.2        0\n",
       "2   3            4.7           3.2            1.3           0.2        0\n",
       "3   4            4.6           3.1            1.5           0.2        0\n",
       "4   5            5.0           3.6            1.4           0.2        0"
      ]
     },
     "execution_count": 8,
     "metadata": {},
     "output_type": "execute_result"
    }
   ],
   "source": [
    "# View\n",
    "data.head(5)"
   ]
  },
  {
   "cell_type": "code",
   "execution_count": 9,
   "metadata": {
    "ExecuteTime": {
     "end_time": "2019-05-04T13:30:54.763892Z",
     "start_time": "2019-05-04T13:30:54.759508Z"
    }
   },
   "outputs": [
    {
     "data": {
      "text/plain": [
       "array([0, 1])"
      ]
     },
     "execution_count": 9,
     "metadata": {},
     "output_type": "execute_result"
    }
   ],
   "source": [
    "# Get class labels from the updated data\n",
    "data.Species.unique()"
   ]
  },
  {
   "cell_type": "code",
   "execution_count": 10,
   "metadata": {
    "ExecuteTime": {
     "end_time": "2019-05-04T13:30:54.769841Z",
     "start_time": "2019-05-04T13:30:54.765529Z"
    }
   },
   "outputs": [
    {
     "data": {
      "text/plain": [
       "(100, 4)"
      ]
     },
     "execution_count": 10,
     "metadata": {},
     "output_type": "execute_result"
    }
   ],
   "source": [
    "# Load features into a numpy array\n",
    "features = np.array(data.iloc[:, 1:5])\n",
    "\n",
    "features.shape"
   ]
  },
  {
   "cell_type": "code",
   "execution_count": 11,
   "metadata": {
    "ExecuteTime": {
     "end_time": "2019-05-04T13:30:54.777567Z",
     "start_time": "2019-05-04T13:30:54.771602Z"
    }
   },
   "outputs": [
    {
     "data": {
      "text/plain": [
       "(100, 1)"
      ]
     },
     "execution_count": 11,
     "metadata": {},
     "output_type": "execute_result"
    }
   ],
   "source": [
    "# Load class labels into a numpy array\n",
    "labels = np.array(data.iloc[:, [-1]])\n",
    "\n",
    "labels.shape"
   ]
  },
  {
   "cell_type": "code",
   "execution_count": 12,
   "metadata": {
    "ExecuteTime": {
     "end_time": "2019-05-04T13:30:54.783701Z",
     "start_time": "2019-05-04T13:30:54.779240Z"
    }
   },
   "outputs": [
    {
     "name": "stdout",
     "output_type": "stream",
     "text": [
      "[5.1 3.5 1.4 0.2] [0]\n",
      "[4.9 3.  1.4 0.2] [0]\n"
     ]
    }
   ],
   "source": [
    "# View\n",
    "print(features[0], labels[0])\n",
    "\n",
    "print(features[1], labels[1])"
   ]
  },
  {
   "cell_type": "code",
   "execution_count": 13,
   "metadata": {
    "ExecuteTime": {
     "end_time": "2019-05-04T13:30:54.790455Z",
     "start_time": "2019-05-04T13:30:54.785148Z"
    }
   },
   "outputs": [
    {
     "name": "stdout",
     "output_type": "stream",
     "text": [
      "(83, 4) (83, 1)\n",
      "(17, 4) (17, 1)\n"
     ]
    }
   ],
   "source": [
    "# Generate random indexes\n",
    "random_indices = np.random.rand(len(features)) <= 0.2\n",
    "\n",
    "# Split data into train and validation\n",
    "train_x, val_x = features[~random_indices], features[random_indices]\n",
    "train_y, val_y = labels[~random_indices], labels[random_indices]\n",
    "\n",
    "print(train_x.shape, train_y.shape)\n",
    "\n",
    "print(val_x.shape, val_y.shape)"
   ]
  },
  {
   "cell_type": "markdown",
   "metadata": {},
   "source": [
    "### Logistic regression model"
   ]
  },
  {
   "cell_type": "code",
   "execution_count": 14,
   "metadata": {
    "ExecuteTime": {
     "end_time": "2019-05-04T13:30:54.919263Z",
     "start_time": "2019-05-04T13:30:54.792520Z"
    }
   },
   "outputs": [
    {
     "name": "stdout",
     "output_type": "stream",
     "text": [
      "WARNING:tensorflow:From /Users/nityansuman/anaconda3/lib/python3.7/site-packages/tensorflow/python/framework/op_def_library.py:263: colocate_with (from tensorflow.python.framework.ops) is deprecated and will be removed in a future version.\n",
      "Instructions for updating:\n",
      "Colocations handled automatically by placer.\n"
     ]
    }
   ],
   "source": [
    "# Define placeholders for taking data input\n",
    "x = tf.placeholder(dtype=tf.float32, shape=(None, features.shape[1]), name=\"feature_x\")\n",
    "y = tf.placeholder(dtype=tf.float32, shape=(None, 1), name=\"target_y\")\n",
    "\n",
    "# Define weights and bias\n",
    "w = tf.Variable(tf.random_normal(shape=(1, features.shape[1]), dtype=tf.float32, mean=0.0, stddev=0.1))\n",
    "b = tf.Variable(tf.zeros(shape=(1, 1), dtype=tf.float32))\n",
    "\n",
    "# Core logistic model\n",
    "logistic_model = tf.sigmoid(tf.add(tf.matmul(x, tf.transpose(w)), b))\n",
    "\n",
    "# oss - binary cross-entropy\n",
    "loss_function = tf.reduce_mean(-(y*tf.log(logistic_model) + (1 - y)*tf.log(1 - logistic_model)))\n",
    "\n",
    "# Optimizer to minimize loss\n",
    "trainer = tf.train.AdamOptimizer(learning_rate=0.1).minimize(loss_function)"
   ]
  },
  {
   "cell_type": "code",
   "execution_count": 15,
   "metadata": {
    "ExecuteTime": {
     "end_time": "2019-05-04T13:30:55.019199Z",
     "start_time": "2019-05-04T13:30:54.920885Z"
    }
   },
   "outputs": [
    {
     "name": "stdout",
     "output_type": "stream",
     "text": [
      "Training...\n",
      "Step: 0 \tTrain Loss: 0.713304\tVal Loss: 0.79438305\n",
      "Step: 1 \tTrain Loss: 0.60375005\tVal Loss: 0.6487528\n",
      "Step: 2 \tTrain Loss: 0.51122075\tVal Loss: 0.5136444\n",
      "Step: 3 \tTrain Loss: 0.44525996\tVal Loss: 0.422934\n",
      "Step: 4 \tTrain Loss: 0.38085973\tVal Loss: 0.35610744\n",
      "Step: 5 \tTrain Loss: 0.32036656\tVal Loss: 0.30397192\n",
      "Step: 6 \tTrain Loss: 0.27380463\tVal Loss: 0.26605093\n",
      "Step: 7 \tTrain Loss: 0.23787647\tVal Loss: 0.23415956\n",
      "Step: 8 \tTrain Loss: 0.20595118\tVal Loss: 0.20154338\n",
      "Step: 9 \tTrain Loss: 0.17666644\tVal Loss: 0.1688931\n",
      "Final Weights: [[-0.06211819 -0.612569    0.81895185  0.80761826]]\n"
     ]
    }
   ],
   "source": [
    "# Train model and validate after each epoch\n",
    "with tf.Session() as sess:\n",
    "    # Initialize global variables\n",
    "    sess.run(tf.global_variables_initializer())\n",
    "    print(\"Training...\")\n",
    "    for epoch in range(10):\n",
    "        # For each epoch run the trainer object\n",
    "        sess.run(trainer, feed_dict={x:train_x, y:train_y})\n",
    "        # Calculate train and validation loss\n",
    "        train_loss = sess.run(loss_function, feed_dict={x:train_x, y:train_y})\n",
    "        val_loss = sess.run(loss_function, feed_dict={x:val_x, y:val_y})\n",
    "        # Prompt\n",
    "        print(\"Step:\", epoch, \"\\tTrain Loss:\", train_loss, end=\"\\t\")\n",
    "        print(\"Val Loss:\", val_loss)\n",
    "    # Get final weights after complete run\n",
    "    print(\"Final Weights:\", sess.run(w))\n",
    "    # Get prediction on validation data finally\n",
    "    predicted_y = sess.run(logistic_model, feed_dict={x:val_x, y:val_y})"
   ]
  },
  {
   "cell_type": "markdown",
   "metadata": {},
   "source": [
    "### Analysis"
   ]
  },
  {
   "cell_type": "code",
   "execution_count": 16,
   "metadata": {
    "ExecuteTime": {
     "end_time": "2019-05-04T13:30:55.026816Z",
     "start_time": "2019-05-04T13:30:55.021715Z"
    }
   },
   "outputs": [],
   "source": [
    "final_prediction = list()\n",
    "\n",
    "# Iterate over all predictions\n",
    "for pred in predicted_y:\n",
    "    # Convert predictions into binary labels\n",
    "    if pred >= 0.5:\n",
    "        final_prediction.append(1)\n",
    "    else:\n",
    "        final_prediction.append(0)\n",
    "\n",
    "# Convert list into a numpy array\n",
    "final_prediction = np.array(final_prediction).reshape((len(final_prediction), 1))"
   ]
  },
  {
   "cell_type": "code",
   "execution_count": 17,
   "metadata": {
    "ExecuteTime": {
     "end_time": "2019-05-04T13:30:55.032740Z",
     "start_time": "2019-05-04T13:30:55.029054Z"
    }
   },
   "outputs": [
    {
     "name": "stdout",
     "output_type": "stream",
     "text": [
      "(17, 1) (17, 1)\n"
     ]
    }
   ],
   "source": [
    "# Assert shape of prediction and ground-truth is same for performance analysis\n",
    "assert final_prediction.shape == val_y.shape\n",
    "print(final_prediction.shape, val_y.shape)"
   ]
  },
  {
   "cell_type": "code",
   "execution_count": 18,
   "metadata": {
    "ExecuteTime": {
     "end_time": "2019-05-04T13:30:55.039379Z",
     "start_time": "2019-05-04T13:30:55.034698Z"
    }
   },
   "outputs": [
    {
     "name": "stdout",
     "output_type": "stream",
     "text": [
      "Accuracy achieved is 100.0%.\n"
     ]
    }
   ],
   "source": [
    "# Compute accuracy\n",
    "correct_prediciton = 0\n",
    "\n",
    "for i in range(val_y.shape[0]):\n",
    "    if final_prediction[i] == val_y[i]:\n",
    "        correct_prediciton += 1\n",
    "    else:\n",
    "        continue\n",
    "\n",
    "print(\"Accuracy achieved is {}%.\".format(correct_prediciton / val_y.shape[0] * 100))"
   ]
  },
  {
   "cell_type": "markdown",
   "metadata": {},
   "source": [
    "### Using manually deifned optimzer instead of inbuilt as before"
   ]
  },
  {
   "cell_type": "code",
   "execution_count": 19,
   "metadata": {
    "ExecuteTime": {
     "end_time": "2019-05-04T13:30:55.091844Z",
     "start_time": "2019-05-04T13:30:55.041211Z"
    }
   },
   "outputs": [],
   "source": [
    "# Compute gradients\n",
    "grad_w, grad_b = tf.gradients(xs=[w, b], ys=loss_function)\n",
    "\n",
    "# Update weighst and baises\n",
    "new_w = w.assign(w - 0.1*grad_w)\n",
    "new_b = b.assign(b - 0.1*grad_b)"
   ]
  },
  {
   "cell_type": "code",
   "execution_count": 20,
   "metadata": {
    "ExecuteTime": {
     "end_time": "2019-05-04T13:30:55.184708Z",
     "start_time": "2019-05-04T13:30:55.093462Z"
    }
   },
   "outputs": [
    {
     "name": "stdout",
     "output_type": "stream",
     "text": [
      "Training...\n",
      "Step: 0 \tTrain Loss: 0.60738117\tVal Loss: 0.5808936\n",
      "Step: 1 \tTrain Loss: 0.5573544\tVal Loss: 0.53519475\n",
      "Step: 2 \tTrain Loss: 0.52550936\tVal Loss: 0.50505346\n",
      "Step: 3 \tTrain Loss: 0.49714863\tVal Loss: 0.4758059\n",
      "Step: 4 \tTrain Loss: 0.4711988\tVal Loss: 0.44940397\n",
      "Step: 5 \tTrain Loss: 0.44740018\tVal Loss: 0.42522544\n",
      "Step: 6 \tTrain Loss: 0.42553926\tVal Loss: 0.4030858\n",
      "Step: 7 \tTrain Loss: 0.40542427\tVal Loss: 0.38276985\n",
      "Step: 8 \tTrain Loss: 0.38688323\tVal Loss: 0.36409226\n",
      "Step: 9 \tTrain Loss: 0.36976215\tVal Loss: 0.34688756\n",
      "Final Weights: [[-0.16149585 -0.19399698  0.5348944   0.28587335]]\n"
     ]
    }
   ],
   "source": [
    "# Train model and validate after each epoch\n",
    "with tf.Session() as sess:\n",
    "    sess.run(tf.global_variables_initializer())\n",
    "    print(\"Training...\")\n",
    "    for epoch in range(10):\n",
    "        # For each epoch\n",
    "        # Compute train loss and update weights and biases\n",
    "        _, _, train_loss = sess.run([new_w, new_b, loss_function], feed_dict={x:train_x, y:train_y})\n",
    "        # Comnpute validation loss\n",
    "        val_loss = sess.run(loss_function, feed_dict={x:val_x, y:val_y})\n",
    "        # Prompt\n",
    "        print(\"Step:\", epoch, \"\\tTrain Loss:\", train_loss, end=\"\\t\")\n",
    "        print(\"Val Loss:\", val_loss)\n",
    "    # Get final weights after train\n",
    "    print(\"Final Weights:\", sess.run(w))\n",
    "    # Get predictions on validation set\n",
    "    predicted_y = sess.run(logistic_model, feed_dict={x:val_x, y:val_y})"
   ]
  },
  {
   "cell_type": "markdown",
   "metadata": {},
   "source": [
    "**validation loss after same number of epochs is little higher than what we saw earlier. This can happen sinze model satrtes train from a random states.**"
   ]
  },
  {
   "cell_type": "markdown",
   "metadata": {},
   "source": [
    "### Analysis"
   ]
  },
  {
   "cell_type": "code",
   "execution_count": 21,
   "metadata": {
    "ExecuteTime": {
     "end_time": "2019-05-04T13:30:55.191569Z",
     "start_time": "2019-05-04T13:30:55.186677Z"
    }
   },
   "outputs": [],
   "source": [
    "final_prediction = list()\n",
    "\n",
    "# Iterate over all predictions\n",
    "for pred in predicted_y:\n",
    "    # Convert predictions into binary labels\n",
    "    if pred >= 0.5:\n",
    "        final_prediction.append(1)\n",
    "    else:\n",
    "        final_prediction.append(0)\n",
    "\n",
    "# Convert list into a numpy array\n",
    "final_prediction = np.array(final_prediction).reshape((len(final_prediction), 1))"
   ]
  },
  {
   "cell_type": "code",
   "execution_count": 22,
   "metadata": {
    "ExecuteTime": {
     "end_time": "2019-05-04T13:30:55.197709Z",
     "start_time": "2019-05-04T13:30:55.194013Z"
    }
   },
   "outputs": [
    {
     "name": "stdout",
     "output_type": "stream",
     "text": [
      "(17, 1) (17, 1)\n"
     ]
    }
   ],
   "source": [
    "# Assert shape of prediction and ground-truth is same for performance analysis\n",
    "assert final_prediction.shape == val_y.shape\n",
    "print(final_prediction.shape, val_y.shape)"
   ]
  },
  {
   "cell_type": "code",
   "execution_count": 23,
   "metadata": {
    "ExecuteTime": {
     "end_time": "2019-05-04T13:30:55.207418Z",
     "start_time": "2019-05-04T13:30:55.202227Z"
    }
   },
   "outputs": [
    {
     "name": "stdout",
     "output_type": "stream",
     "text": [
      "Accuracy achieved is 100.0%.\n"
     ]
    }
   ],
   "source": [
    "# Compute accuracy\n",
    "correct_prediciton = 0\n",
    "\n",
    "for i in range(val_y.shape[0]):\n",
    "    if final_prediction[i] == val_y[i]:\n",
    "        correct_prediciton += 1\n",
    "    else:\n",
    "        continue\n",
    "\n",
    "print(\"Accuracy achieved is {}%.\".format(correct_prediciton / val_y.shape[0] * 100))"
   ]
  },
  {
   "cell_type": "markdown",
   "metadata": {},
   "source": [
    "**Perfect Score!**"
   ]
  },
  {
   "cell_type": "code",
   "execution_count": null,
   "metadata": {},
   "outputs": [],
   "source": []
  }
 ],
 "metadata": {
  "kernelspec": {
   "display_name": "Python 3",
   "language": "python",
   "name": "python3"
  },
  "language_info": {
   "codemirror_mode": {
    "name": "ipython",
    "version": 3
   },
   "file_extension": ".py",
   "mimetype": "text/x-python",
   "name": "python",
   "nbconvert_exporter": "python",
   "pygments_lexer": "ipython3",
   "version": "3.7.3"
  }
 },
 "nbformat": 4,
 "nbformat_minor": 2
}
