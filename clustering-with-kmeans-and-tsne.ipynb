{
 "cells": [
  {
   "cell_type": "code",
   "execution_count": 1,
   "metadata": {
    "ExecuteTime": {
     "end_time": "2019-05-04T08:10:50.587316Z",
     "start_time": "2019-05-04T08:10:48.501089Z"
    }
   },
   "outputs": [],
   "source": [
    "# Load packages\n",
    "import os\n",
    "import sys\n",
    "import itertools\n",
    "import numpy as np\n",
    "from sklearn.cluster import KMeans\n",
    "from sklearn import datasets\n",
    "from sklearn import manifold\n",
    "import matplotlib.pyplot as plt"
   ]
  },
  {
   "cell_type": "code",
   "execution_count": 3,
   "metadata": {
    "ExecuteTime": {
     "end_time": "2019-05-04T08:11:11.951411Z",
     "start_time": "2019-05-04T08:11:11.791956Z"
    }
   },
   "outputs": [
    {
     "name": "stdout",
     "output_type": "stream",
     "text": [
      "(1797, 64) (1797,)\n"
     ]
    }
   ],
   "source": [
    "# Load some digits data\n",
    "digits = datasets.load_digits(n_class=10)\n",
    "x, y = digits.data, digits.target\n",
    "\n",
    "print(x.shape, y.shape)"
   ]
  },
  {
   "cell_type": "code",
   "execution_count": 4,
   "metadata": {
    "ExecuteTime": {
     "end_time": "2019-05-04T08:11:21.917352Z",
     "start_time": "2019-05-04T08:11:21.908768Z"
    }
   },
   "outputs": [
    {
     "name": "stdout",
     "output_type": "stream",
     "text": [
      "[ 0.  0.  5. 13.  9.  1.  0.  0.  0.  0. 13. 15. 10. 15.  5.  0.  0.  3.\n",
      " 15.  2.  0. 11.  8.  0.  0.  4. 12.  0.  0.  8.  8.  0.  0.  5.  8.  0.\n",
      "  0.  9.  8.  0.  0.  4. 11.  0.  1. 12.  7.  0.  0.  2. 14.  5. 10. 12.\n",
      "  0.  0.  0.  0.  6. 13. 10.  0.  0.  0.] 0\n"
     ]
    }
   ],
   "source": [
    "print(x[0], y[0])"
   ]
  },
  {
   "cell_type": "code",
   "execution_count": 5,
   "metadata": {
    "ExecuteTime": {
     "end_time": "2019-05-04T08:11:59.840877Z",
     "start_time": "2019-05-04T08:11:59.653375Z"
    }
   },
   "outputs": [
    {
     "data": {
      "text/plain": [
       "KMeans(algorithm='auto', copy_x=True, init='k-means++', max_iter=300,\n",
       "    n_clusters=2, n_init=10, n_jobs=None, precompute_distances='auto',\n",
       "    random_state=0, tol=0.0001, verbose=0)"
      ]
     },
     "execution_count": 5,
     "metadata": {},
     "output_type": "execute_result"
    }
   ],
   "source": [
    "# Initiate k-means with 2 clusters\n",
    "kmeans = KMeans(n_clusters=2, random_state=0)\n",
    "\n",
    "# Fit on train data\n",
    "kmeans.fit(x)"
   ]
  },
  {
   "cell_type": "code",
   "execution_count": 6,
   "metadata": {
    "ExecuteTime": {
     "end_time": "2019-05-04T08:12:34.639578Z",
     "start_time": "2019-05-04T08:12:34.631521Z"
    }
   },
   "outputs": [
    {
     "data": {
      "text/plain": [
       "array([0, 1], dtype=int32)"
      ]
     },
     "execution_count": 6,
     "metadata": {},
     "output_type": "execute_result"
    }
   ],
   "source": [
    "# Labels associated to cluster\n",
    "np.unique(kmeans.labels_)"
   ]
  },
  {
   "cell_type": "code",
   "execution_count": 7,
   "metadata": {
    "ExecuteTime": {
     "end_time": "2019-05-04T08:13:02.671671Z",
     "start_time": "2019-05-04T08:13:02.652629Z"
    }
   },
   "outputs": [
    {
     "name": "stdout",
     "output_type": "stream",
     "text": [
      "(1797, 64) (1797,)\n"
     ]
    }
   ],
   "source": [
    "# Get prediction on train data\n",
    "predictions = kmeans.predict(x)\n",
    "\n",
    "print(x.shape, predictions.shape)"
   ]
  },
  {
   "cell_type": "code",
   "execution_count": 8,
   "metadata": {
    "ExecuteTime": {
     "end_time": "2019-05-04T08:13:06.090919Z",
     "start_time": "2019-05-04T08:13:06.080175Z"
    }
   },
   "outputs": [
    {
     "data": {
      "text/plain": [
       "array([0, 1, 1, ..., 1, 1, 1], dtype=int32)"
      ]
     },
     "execution_count": 8,
     "metadata": {},
     "output_type": "execute_result"
    }
   ],
   "source": [
    "# View\n",
    "predictions"
   ]
  },
  {
   "cell_type": "code",
   "execution_count": 9,
   "metadata": {
    "ExecuteTime": {
     "end_time": "2019-05-04T08:14:12.300004Z",
     "start_time": "2019-05-04T08:13:52.072140Z"
    }
   },
   "outputs": [
    {
     "name": "stdout",
     "output_type": "stream",
     "text": [
      "(1797, 2)\n"
     ]
    }
   ],
   "source": [
    "# Perform dimentionality reduction and take only 2 componets for visualization\n",
    "tsne = manifold.TSNE(n_components=2, init=\"pca\", random_state=2019)\n",
    "\n",
    "# Fit on train data\n",
    "x_tsne = tsne.fit_transform(x)\n",
    "\n",
    "print(x_tsne.shape)"
   ]
  },
  {
   "cell_type": "code",
   "execution_count": 10,
   "metadata": {
    "ExecuteTime": {
     "end_time": "2019-05-04T08:14:12.310886Z",
     "start_time": "2019-05-04T08:14:12.304117Z"
    }
   },
   "outputs": [
    {
     "data": {
      "text/plain": [
       "array([[ -3.766649 ,  57.240562 ],\n",
       "       [ 29.003862 , -16.139313 ],\n",
       "       [ 19.134077 ,  -7.349566 ],\n",
       "       ...,\n",
       "       [ 11.08747  , -12.88418  ],\n",
       "       [-17.804667 ,  27.198317 ],\n",
       "       [  6.9697943,  -8.962728 ]], dtype=float32)"
      ]
     },
     "execution_count": 10,
     "metadata": {},
     "output_type": "execute_result"
    }
   ],
   "source": [
    "# View\n",
    "x_tsne"
   ]
  },
  {
   "cell_type": "code",
   "execution_count": 11,
   "metadata": {
    "ExecuteTime": {
     "end_time": "2019-05-04T08:16:07.177233Z",
     "start_time": "2019-05-04T08:16:07.113349Z"
    }
   },
   "outputs": [
    {
     "data": {
      "text/plain": [
       "KMeans(algorithm='auto', copy_x=True, init='k-means++', max_iter=300,\n",
       "    n_clusters=2, n_init=10, n_jobs=None, precompute_distances='auto',\n",
       "    random_state=0, tol=0.0001, verbose=0)"
      ]
     },
     "execution_count": 11,
     "metadata": {},
     "output_type": "execute_result"
    }
   ],
   "source": [
    "# Cluster the dimentionally reduced clusters\n",
    "kmeans2 = KMeans(n_clusters=2, random_state=0)\n",
    "\n",
    "# Fit on the clusters\n",
    "kmeans2.fit(x_tsne)"
   ]
  },
  {
   "cell_type": "code",
   "execution_count": 12,
   "metadata": {
    "ExecuteTime": {
     "end_time": "2019-05-04T08:16:54.135110Z",
     "start_time": "2019-05-04T08:16:54.118849Z"
    }
   },
   "outputs": [
    {
     "name": "stdout",
     "output_type": "stream",
     "text": [
      "(1797, 2) (1797,)\n"
     ]
    }
   ],
   "source": [
    "# Get prediction on train data\n",
    "predictions2 = kmeans2.predict(x_tsne)\n",
    "\n",
    "print(x_tsne.shape, predictions2.shape)"
   ]
  },
  {
   "cell_type": "code",
   "execution_count": 13,
   "metadata": {
    "ExecuteTime": {
     "end_time": "2019-05-04T08:17:01.235581Z",
     "start_time": "2019-05-04T08:17:01.228780Z"
    }
   },
   "outputs": [
    {
     "data": {
      "text/plain": [
       "array([1, 1, 1, ..., 0, 0, 0], dtype=int32)"
      ]
     },
     "execution_count": 13,
     "metadata": {},
     "output_type": "execute_result"
    }
   ],
   "source": [
    "# View\n",
    "predictions2"
   ]
  },
  {
   "cell_type": "code",
   "execution_count": 14,
   "metadata": {
    "ExecuteTime": {
     "end_time": "2019-05-04T08:17:49.459390Z",
     "start_time": "2019-05-04T08:17:48.967991Z"
    }
   },
   "outputs": [
    {
     "data": {
      "image/png": "[encoded data removed]",
      "text/plain": [
       "<Figure size 720x288 with 2 Axes>"
      ]
     },
     "metadata": {
      "needs_background": "light"
     },
     "output_type": "display_data"
    }
   ],
   "source": [
    "# Plot clusters\n",
    "fig = plt.figure(figsize=(10,4))\n",
    "\n",
    "# Figure 1\n",
    "plt.subplot2grid((1,2), (0,0))\n",
    "plt.title(\"ONLY K-MEANS: 2 CENTROIDS\")\n",
    "plt.scatter(kmeans.cluster_centers_[0], kmeans.cluster_centers_[1], color=\"red\")\n",
    "\n",
    "# Figure 2\n",
    "plt.subplot2grid((1,2), (0,1))\n",
    "plt.title(\"K-MEANS WITH PREVIOUS t-SNE: 2 CENTROIDS\")\n",
    "plt.scatter(kmeans2.cluster_centers_[0], kmeans2.cluster_centers_[1],color=\"green\")\n",
    "\n",
    "plt.show()"
   ]
  },
  {
   "cell_type": "code",
   "execution_count": null,
   "metadata": {},
   "outputs": [],
   "source": []
  }
 ],
 "metadata": {
  "kernelspec": {
   "display_name": "Python 3",
   "language": "python",
   "name": "python3"
  },
  "language_info": {
   "codemirror_mode": {
    "name": "ipython",
    "version": 3
   },
   "file_extension": ".py",
   "mimetype": "text/x-python",
   "name": "python",
   "nbconvert_exporter": "python",
   "pygments_lexer": "ipython3",
   "version": "3.7.3"
  }
 },
 "nbformat": 4,
 "nbformat_minor": 2
}
