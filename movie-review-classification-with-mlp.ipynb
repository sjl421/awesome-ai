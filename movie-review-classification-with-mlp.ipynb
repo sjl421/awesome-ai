{
 "cells": [
  {
   "cell_type": "markdown",
   "metadata": {},
   "source": [
    "### Classifying movie reviews: a binary classification example\n",
    "----\n",
    "\n",
    "Two-class classification, or binary classification, may be the most widely applied kind of machine learning problem. In this example, we \n",
    "will learn to classify movie reviews into \"positive\" reviews and \"negative\" reviews, just based on the text content of the reviews."
   ]
  },
  {
   "cell_type": "markdown",
   "metadata": {},
   "source": [
    "### IMDB dataset\n",
    "\n",
    "We'll be working with \"IMDB dataset\", a set of 50,000 highly-polarized reviews from the Internet Movie Database. They are split into 25,000 reviews for training and 25,000 reviews for testing, each set consisting in 50% negative and 50% positive reviews."
   ]
  },
  {
   "cell_type": "code",
   "execution_count": 1,
   "metadata": {
    "ExecuteTime": {
     "end_time": "2019-05-03T21:53:51.340272Z",
     "start_time": "2019-05-03T21:53:49.092262Z"
    }
   },
   "outputs": [
    {
     "data": {
      "text/plain": [
       "'1.13.1'"
      ]
     },
     "execution_count": 1,
     "metadata": {},
     "output_type": "execute_result"
    }
   ],
   "source": [
    "# Load packages\n",
    "import os\n",
    "import numpy as np\n",
    "import pandas as pd\n",
    "import tensorflow as tf\n",
    "import matplotlib.pyplot as plt\n",
    "\n",
    "from tensorflow.keras.datasets import imdb\n",
    "\n",
    "tf.__version__"
   ]
  },
  {
   "cell_type": "code",
   "execution_count": 2,
   "metadata": {
    "ExecuteTime": {
     "end_time": "2019-05-03T21:53:56.657569Z",
     "start_time": "2019-05-03T21:53:51.342559Z"
    }
   },
   "outputs": [],
   "source": [
    "# Load data\n",
    "(train_data, train_labels), (test_data, test_labels) = imdb.load_data(num_words=10000)"
   ]
  },
  {
   "cell_type": "code",
   "execution_count": 3,
   "metadata": {
    "ExecuteTime": {
     "end_time": "2019-05-03T21:53:56.664535Z",
     "start_time": "2019-05-03T21:53:56.660539Z"
    }
   },
   "outputs": [
    {
     "name": "stdout",
     "output_type": "stream",
     "text": [
      "(25000,) (25000,)\n",
      "(25000,) (25000,)\n"
     ]
    }
   ],
   "source": [
    "# View\n",
    "print(train_data.shape, train_labels.shape)\n",
    "print(test_data.shape, test_labels.shape)"
   ]
  },
  {
   "cell_type": "markdown",
   "metadata": {},
   "source": [
    "### Decode encoded reviews back to words"
   ]
  },
  {
   "cell_type": "code",
   "execution_count": 4,
   "metadata": {
    "ExecuteTime": {
     "end_time": "2019-05-03T21:53:56.829370Z",
     "start_time": "2019-05-03T21:53:56.667586Z"
    }
   },
   "outputs": [
    {
     "name": "stdout",
     "output_type": "stream",
     "text": [
      "Length of vocab =  88584\n",
      "? big hair big boobs bad music and a giant safety pin these are the words to best describe this terrible movie i love cheesy horror movies and i've seen hundreds but this had got to be on of the worst ever made the plot is paper thin and ridiculous the acting is an abomination the script is completely laughable the best is the end showdown with the cop and how he worked out who the killer is it's just so damn terribly written the clothes are sickening and funny in equal ? the hair is big lots of boobs ? men wear those cut ? shirts that show off their ? sickening that men actually wore them and the music is just ? trash that plays over and over again in almost every scene there is trashy music boobs and ? taking away bodies and the gym still doesn't close for ? all joking aside this is a truly bad film whose only charm is to look back on the disaster that was the 80's and have a good old laugh at how bad everything was back then\n"
     ]
    }
   ],
   "source": [
    "# Get word-index dictionary mapping\n",
    "word_index = imdb.get_word_index()\n",
    "\n",
    "print(\"Length of vocab = \", len(word_index))\n",
    "\n",
    "# Reverse dict to get index-word mapping\n",
    "reverse_word_index = dict([(value, key) for (key, value) in word_index.items()])\n",
    "\n",
    "# Decode the review\n",
    "# Note that our indices were offset by 3\n",
    "# Since 0, 1 and 2 are reserved indices for \"padding\", \"start of sequence\", and \"unknown\".\n",
    "decoded_review = \" \".join([reverse_word_index.get(i - 3, '?') for i in train_data[1]])\n",
    "\n",
    "print(decoded_review)"
   ]
  },
  {
   "cell_type": "code",
   "execution_count": 5,
   "metadata": {
    "ExecuteTime": {
     "end_time": "2019-05-03T21:53:59.434672Z",
     "start_time": "2019-05-03T21:53:56.831813Z"
    }
   },
   "outputs": [],
   "source": [
    "# Vectorize input feature\n",
    "def vectorize_sequences(sequences, dimension=10000):\n",
    "    # Create a zero matrix\n",
    "    results = np.zeros((len(sequences), dimension))\n",
    "    # Iterate over each samples\n",
    "    for i, sequence in enumerate(sequences):\n",
    "        results[i, sequence] = 1.\n",
    "    return results\n",
    "\n",
    "# Apply method to training data\n",
    "x_train = vectorize_sequences(train_data)\n",
    "\n",
    "# Apply method to testing data\n",
    "x_test = vectorize_sequences(test_data)"
   ]
  },
  {
   "cell_type": "code",
   "execution_count": 6,
   "metadata": {
    "ExecuteTime": {
     "end_time": "2019-05-03T21:53:59.440578Z",
     "start_time": "2019-05-03T21:53:59.436429Z"
    }
   },
   "outputs": [
    {
     "name": "stdout",
     "output_type": "stream",
     "text": [
      "[0. 1. 1. ... 0. 0. 0.]\n",
      "[0. 1. 1. ... 0. 0. 0.]\n"
     ]
    }
   ],
   "source": [
    "print(x_train[0])\n",
    "print(x_test[0])"
   ]
  },
  {
   "cell_type": "code",
   "execution_count": 7,
   "metadata": {
    "ExecuteTime": {
     "end_time": "2019-05-03T21:53:59.447562Z",
     "start_time": "2019-05-03T21:53:59.442183Z"
    }
   },
   "outputs": [
    {
     "name": "stdout",
     "output_type": "stream",
     "text": [
      "1.0\n",
      "0.0\n"
     ]
    }
   ],
   "source": [
    "# Vectornize labels\n",
    "y_train = np.asarray(train_labels).astype(\"float32\")\n",
    "\n",
    "print(y_train[0])\n",
    "\n",
    "y_test = np.asarray(test_labels).astype(\"float32\")\n",
    "\n",
    "print(y_test[0])"
   ]
  },
  {
   "cell_type": "code",
   "execution_count": 8,
   "metadata": {
    "ExecuteTime": {
     "end_time": "2019-05-03T21:53:59.455024Z",
     "start_time": "2019-05-03T21:53:59.450384Z"
    }
   },
   "outputs": [
    {
     "name": "stdout",
     "output_type": "stream",
     "text": [
      "(10000, 10000) (10000,)\n",
      "(15000, 10000) (15000,)\n"
     ]
    }
   ],
   "source": [
    "# Split data for validation\n",
    "x_val, x_train = x_train[:10000], x_train[10000:]\n",
    "y_val, y_train = y_train[:10000], y_train[10000:]\n",
    "\n",
    "print(x_val.shape, y_val.shape)\n",
    "print(x_train.shape, y_train.shape)"
   ]
  },
  {
   "cell_type": "markdown",
   "metadata": {},
   "source": [
    "### Model"
   ]
  },
  {
   "cell_type": "code",
   "execution_count": 9,
   "metadata": {
    "ExecuteTime": {
     "end_time": "2019-05-03T21:53:59.460008Z",
     "start_time": "2019-05-03T21:53:59.457341Z"
    }
   },
   "outputs": [],
   "source": [
    "from tensorflow.keras import models, layers"
   ]
  },
  {
   "cell_type": "code",
   "execution_count": 10,
   "metadata": {
    "ExecuteTime": {
     "end_time": "2019-05-03T21:53:59.467448Z",
     "start_time": "2019-05-03T21:53:59.461822Z"
    }
   },
   "outputs": [],
   "source": [
    "def mlp_model(depth, num_classes):\n",
    "    # initiate model\n",
    "    model = tf.keras.models.Sequential([\n",
    "        # Input layer\n",
    "        tf.keras.layers.Dense(depth, activation=\"relu\", input_shape=(10000,)),\n",
    "        # Hidden layer\n",
    "        tf.keras.layers.Dense(depth, activation=\"relu\"),\n",
    "        # Output layer\n",
    "        tf.keras.layers.Dense(num_classes, activation=\"sigmoid\")\n",
    "    ])\n",
    "\n",
    "    # Compile model\n",
    "    model.compile(optimizer=\"rmsprop\",\n",
    "                  loss=\"binary_crossentropy\",\n",
    "                  metrics=[\"accuracy\"])\n",
    "    return model"
   ]
  },
  {
   "cell_type": "code",
   "execution_count": 11,
   "metadata": {
    "ExecuteTime": {
     "end_time": "2019-05-03T21:53:59.664192Z",
     "start_time": "2019-05-03T21:53:59.470220Z"
    }
   },
   "outputs": [
    {
     "name": "stdout",
     "output_type": "stream",
     "text": [
      "WARNING:tensorflow:From /Users/nityansuman/anaconda3/lib/python3.7/site-packages/tensorflow/python/ops/resource_variable_ops.py:435: colocate_with (from tensorflow.python.framework.ops) is deprecated and will be removed in a future version.\n",
      "Instructions for updating:\n",
      "Colocations handled automatically by placer.\n"
     ]
    }
   ],
   "source": [
    "# Initiate model\n",
    "model = mlp_model(8, 1)"
   ]
  },
  {
   "cell_type": "code",
   "execution_count": 12,
   "metadata": {
    "ExecuteTime": {
     "end_time": "2019-05-03T21:54:15.386412Z",
     "start_time": "2019-05-03T21:53:59.665835Z"
    }
   },
   "outputs": [
    {
     "name": "stdout",
     "output_type": "stream",
     "text": [
      "Train on 15000 samples, validate on 10000 samples\n",
      "WARNING:tensorflow:From /Users/nityansuman/anaconda3/lib/python3.7/site-packages/tensorflow/python/ops/math_ops.py:3066: to_int32 (from tensorflow.python.ops.math_ops) is deprecated and will be removed in a future version.\n",
      "Instructions for updating:\n",
      "Use tf.cast instead.\n",
      "Epoch 1/10\n",
      "15000/15000 [==============================] - 2s 140us/sample - loss: 0.6241 - acc: 0.5957 - val_loss: 0.5714 - val_acc: 0.6893\n",
      "Epoch 2/10\n",
      "15000/15000 [==============================] - 1s 90us/sample - loss: 0.4752 - acc: 0.8489 - val_loss: 0.4177 - val_acc: 0.8699\n",
      "Epoch 3/10\n",
      "15000/15000 [==============================] - 1s 90us/sample - loss: 0.3348 - acc: 0.9082 - val_loss: 0.3393 - val_acc: 0.8786\n",
      "Epoch 4/10\n",
      "15000/15000 [==============================] - 2s 101us/sample - loss: 0.2566 - acc: 0.9260 - val_loss: 0.3047 - val_acc: 0.8826\n",
      "Epoch 5/10\n",
      "15000/15000 [==============================] - 1s 92us/sample - loss: 0.2079 - acc: 0.9397 - val_loss: 0.2821 - val_acc: 0.8907\n",
      "Epoch 6/10\n",
      "15000/15000 [==============================] - 1s 89us/sample - loss: 0.1720 - acc: 0.9499 - val_loss: 0.2757 - val_acc: 0.8885\n",
      "Epoch 7/10\n",
      "15000/15000 [==============================] - 2s 111us/sample - loss: 0.1462 - acc: 0.9567 - val_loss: 0.2773 - val_acc: 0.8880\n",
      "Epoch 8/10\n",
      "15000/15000 [==============================] - 1s 98us/sample - loss: 0.1226 - acc: 0.9651 - val_loss: 0.2875 - val_acc: 0.8847\n",
      "Epoch 9/10\n",
      "15000/15000 [==============================] - 2s 101us/sample - loss: 0.1049 - acc: 0.9712 - val_loss: 0.3007 - val_acc: 0.8860\n",
      "Epoch 10/10\n",
      "15000/15000 [==============================] - 2s 112us/sample - loss: 0.0889 - acc: 0.9775 - val_loss: 0.3219 - val_acc: 0.8795\n"
     ]
    }
   ],
   "source": [
    "# Train model for 10 epochs in batches of 512 and validate on validation dataset\n",
    "history = model.fit(x_train,\n",
    "                    y_train,\n",
    "                    epochs=10,\n",
    "                    batch_size=512,\n",
    "                    validation_data=(x_val, y_val))"
   ]
  },
  {
   "cell_type": "markdown",
   "metadata": {},
   "source": [
    "### Performance visualization"
   ]
  },
  {
   "cell_type": "code",
   "execution_count": 13,
   "metadata": {
    "ExecuteTime": {
     "end_time": "2019-05-03T21:54:15.592880Z",
     "start_time": "2019-05-03T21:54:15.387936Z"
    }
   },
   "outputs": [
    {
     "data": {
      "image/png": "[encoded data removed]",
      "text/plain": [
       "<Figure size 432x288 with 1 Axes>"
      ]
     },
     "metadata": {
      "needs_background": "light"
     },
     "output_type": "display_data"
    }
   ],
   "source": [
    "# Plot training accuracy vs validation accuracy\n",
    "acc = history.history[\"acc\"]\n",
    "val_acc = history.history[\"val_acc\"]\n",
    "\n",
    "epochs = range(1, len(acc) + 1)\n",
    "\n",
    "plt.plot(epochs, acc, \"-\", label=\"Training Accuracy\")\n",
    "\n",
    "plt.plot(epochs, val_acc, \"-\", label=\"Validation Accuracy\")\n",
    "plt.title(\"Training and Validation Accuracy\")\n",
    "plt.xlabel(\"Epochs\")\n",
    "plt.ylabel(\"Accuracy\")\n",
    "plt.legend()\n",
    "\n",
    "plt.show()"
   ]
  },
  {
   "cell_type": "code",
   "execution_count": 14,
   "metadata": {
    "ExecuteTime": {
     "end_time": "2019-05-03T21:54:15.789682Z",
     "start_time": "2019-05-03T21:54:15.594805Z"
    }
   },
   "outputs": [
    {
     "data": {
      "image/png": "[encoded data removed]",
      "text/plain": [
       "<Figure size 432x288 with 1 Axes>"
      ]
     },
     "metadata": {
      "needs_background": "light"
     },
     "output_type": "display_data"
    }
   ],
   "source": [
    "# Plot training loss vs validation loss\n",
    "loss = history.history[\"loss\"]\n",
    "val_loss = history.history[\"val_loss\"]\n",
    "\n",
    "epochs = range(1, len(acc) + 1)\n",
    "\n",
    "plt.plot(epochs, loss, \"-\", label=\"Training Loss\")\n",
    "\n",
    "plt.plot(epochs, val_loss, \"-\", label=\"Validation Loss\")\n",
    "plt.title(\"Training and Validation Loss\")\n",
    "plt.xlabel(\"Epochs\")\n",
    "plt.ylabel(\"Loss\")\n",
    "plt.legend()\n",
    "\n",
    "plt.show()"
   ]
  },
  {
   "cell_type": "markdown",
   "metadata": {},
   "source": [
    "As you can see, the training loss decreases with every epoch and the training accuracy increases with every epoch. This is \"overfitting\": after the second epoch, we are over-optimizing on the training data, and we ended up learning representations that are specific to the training data and do not generalize to data outside of the training set."
   ]
  },
  {
   "cell_type": "code",
   "execution_count": 15,
   "metadata": {
    "ExecuteTime": {
     "end_time": "2019-05-03T21:54:19.748907Z",
     "start_time": "2019-05-03T21:54:15.792832Z"
    }
   },
   "outputs": [
    {
     "name": "stdout",
     "output_type": "stream",
     "text": [
      "Train on 15000 samples, validate on 10000 samples\n",
      "Epoch 1/2\n",
      "15000/15000 [==============================] - 2s 113us/sample - loss: 0.5454 - acc: 0.7896 - val_loss: 0.4347 - val_acc: 0.8648\n",
      "Epoch 2/2\n",
      "15000/15000 [==============================] - 1s 99us/sample - loss: 0.3583 - acc: 0.8986 - val_loss: 0.3453 - val_acc: 0.8832\n"
     ]
    }
   ],
   "source": [
    "# Initiate the same model\n",
    "model = mlp_model(8, 1)\n",
    "\n",
    "# Train model for 2 epochs in batches of 512 and validate on validation set\n",
    "history = model.fit(x_train,\n",
    "                    y_train,\n",
    "                    epochs=2,\n",
    "                    batch_size=512,\n",
    "                    validation_data=(x_val, y_val))"
   ]
  },
  {
   "cell_type": "markdown",
   "metadata": {},
   "source": [
    "### Performance visualization"
   ]
  },
  {
   "cell_type": "code",
   "execution_count": 16,
   "metadata": {
    "ExecuteTime": {
     "end_time": "2019-05-03T21:54:19.899931Z",
     "start_time": "2019-05-03T21:54:19.750711Z"
    }
   },
   "outputs": [
    {
     "data": {
      "image/png": "[encoded data removed]",
      "text/plain": [
       "<Figure size 432x288 with 1 Axes>"
      ]
     },
     "metadata": {
      "needs_background": "light"
     },
     "output_type": "display_data"
    }
   ],
   "source": [
    "# Plot training accuracy vs validation accuracy\n",
    "acc = history.history[\"acc\"]\n",
    "val_acc = history.history[\"val_acc\"]\n",
    "\n",
    "epochs = range(1, len(acc) + 1)\n",
    "\n",
    "plt.plot(epochs, acc, \"-\", label=\"Training Accuracy\")\n",
    "\n",
    "plt.plot(epochs, val_acc, \"-\", label=\"Validation Accuracy\")\n",
    "plt.title(\"Training and Validation Accuracy\")\n",
    "plt.xlabel(\"Epochs\")\n",
    "plt.ylabel(\"Accuracy\")\n",
    "plt.legend()\n",
    "\n",
    "plt.show()"
   ]
  },
  {
   "cell_type": "code",
   "execution_count": 17,
   "metadata": {
    "ExecuteTime": {
     "end_time": "2019-05-03T21:54:20.067084Z",
     "start_time": "2019-05-03T21:54:19.901931Z"
    }
   },
   "outputs": [
    {
     "data": {
      "image/png": "[encoded data removed]",
      "text/plain": [
       "<Figure size 432x288 with 1 Axes>"
      ]
     },
     "metadata": {
      "needs_background": "light"
     },
     "output_type": "display_data"
    }
   ],
   "source": [
    "# Plot training loss and validation loss\n",
    "loss = history.history[\"loss\"]\n",
    "val_loss = history.history[\"val_loss\"]\n",
    "\n",
    "epochs = range(1, len(acc) + 1)\n",
    "\n",
    "plt.plot(epochs, loss, \"-\", label=\"Training Loss\")\n",
    "\n",
    "plt.plot(epochs, val_loss, \"-\", label=\"Validation Loss\")\n",
    "plt.title(\"Training and Validation Loss\")\n",
    "plt.xlabel(\"Epochs\")\n",
    "plt.ylabel(\"Loss\")\n",
    "plt.legend()\n",
    "\n",
    "plt.show()"
   ]
  },
  {
   "cell_type": "markdown",
   "metadata": {},
   "source": [
    "### Testing"
   ]
  },
  {
   "cell_type": "code",
   "execution_count": 18,
   "metadata": {
    "ExecuteTime": {
     "end_time": "2019-05-03T21:54:21.749058Z",
     "start_time": "2019-05-03T21:54:20.069066Z"
    }
   },
   "outputs": [
    {
     "name": "stdout",
     "output_type": "stream",
     "text": [
      "25000/25000 [==============================] - 2s 67us/sample - loss: 0.3591 - acc: 0.8762\n",
      "loss = 0.35907500234603884, accuracy = 0.8762400150299072\n"
     ]
    }
   ],
   "source": [
    "# Evaludate on test set\n",
    "results = model.evaluate(x_test, y_test)\n",
    "\n",
    "print(\"loss = {}, accuracy = {}\".format(results[0], results[1]))"
   ]
  },
  {
   "cell_type": "markdown",
   "metadata": {},
   "source": [
    "### Our fairly naive approach achieves an accuracy of 87+%. Hurray!!!"
   ]
  },
  {
   "cell_type": "code",
   "execution_count": null,
   "metadata": {},
   "outputs": [],
   "source": []
  }
 ],
 "metadata": {
  "kernelspec": {
   "display_name": "Python 3",
   "language": "python",
   "name": "python3"
  },
  "language_info": {
   "codemirror_mode": {
    "name": "ipython",
    "version": 3
   },
   "file_extension": ".py",
   "mimetype": "text/x-python",
   "name": "python",
   "nbconvert_exporter": "python",
   "pygments_lexer": "ipython3",
   "version": "3.7.3"
  }
 },
 "nbformat": 4,
 "nbformat_minor": 2
}
