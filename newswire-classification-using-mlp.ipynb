{
 "cells": [
  {
   "cell_type": "markdown",
   "metadata": {},
   "source": [
    "# Classifying newswires: a multi-class classification example\n",
    "---- \n",
    "\n",
    "Here, we will build a network to classify Reuters newswires into 46 different mutually-exclusive topics. Since we have many \n",
    "classes, this problem is an instance of \"multi-class classification\", and since each data point should be classified into only one \n",
    "category, the problem is more specifically an instance of \"single-label, multi-class classification\"."
   ]
  },
  {
   "cell_type": "markdown",
   "metadata": {},
   "source": [
    "## The Reuters dataset\n",
    "\n",
    "We will be working with ```Reuters dataset```, a set of short newswires and their topics, published by Reuters in 1986. It's a very simple, \n",
    "widely used toy dataset for text classification. There are 46 different topics; some topics are more represented than others, but each \n",
    "topic has at least 10 examples in the training set."
   ]
  },
  {
   "cell_type": "code",
   "execution_count": 1,
   "metadata": {
    "ExecuteTime": {
     "end_time": "2019-05-04T08:08:54.903222Z",
     "start_time": "2019-05-04T08:08:51.980869Z"
    }
   },
   "outputs": [
    {
     "data": {
      "text/plain": [
       "'1.13.1'"
      ]
     },
     "execution_count": 1,
     "metadata": {},
     "output_type": "execute_result"
    }
   ],
   "source": [
    "# Load packages\n",
    "import os\n",
    "import sys\n",
    "import numpy as np\n",
    "import pandas as pd\n",
    "import tensorflow as tf\n",
    "import matplotlib.pyplot as plt\n",
    "\n",
    "from tensorflow.keras.datasets import reuters\n",
    "\n",
    "tf.__version__"
   ]
  },
  {
   "cell_type": "code",
   "execution_count": 2,
   "metadata": {
    "ExecuteTime": {
     "end_time": "2019-05-04T08:08:56.154260Z",
     "start_time": "2019-05-04T08:08:54.906869Z"
    }
   },
   "outputs": [],
   "source": [
    "# Load data\n",
    "(train_data, train_labels), (test_data, test_labels) = reuters.load_data(num_words=10000)"
   ]
  },
  {
   "cell_type": "code",
   "execution_count": 3,
   "metadata": {
    "ExecuteTime": {
     "end_time": "2019-05-04T08:08:56.164130Z",
     "start_time": "2019-05-04T08:08:56.157710Z"
    }
   },
   "outputs": [
    {
     "name": "stdout",
     "output_type": "stream",
     "text": [
      "(8982,) (8982,)\n",
      "(2246,) (2246,)\n"
     ]
    }
   ],
   "source": [
    "print(train_data.shape, train_labels.shape)\n",
    "print(test_data.shape, test_labels.shape)"
   ]
  },
  {
   "cell_type": "code",
   "execution_count": 4,
   "metadata": {
    "ExecuteTime": {
     "end_time": "2019-05-04T08:08:56.402582Z",
     "start_time": "2019-05-04T08:08:56.167820Z"
    }
   },
   "outputs": [],
   "source": [
    "# Get word-index mapping\n",
    "word_index = reuters.get_word_index()\n",
    "\n",
    "# reverse mapping to get index-word mapping\n",
    "reverse_word_index = dict([(value, key) for (key, value) in word_index.items()])"
   ]
  },
  {
   "cell_type": "markdown",
   "metadata": {},
   "source": [
    "### Decode encoded reviews back to original"
   ]
  },
  {
   "cell_type": "code",
   "execution_count": 5,
   "metadata": {
    "ExecuteTime": {
     "end_time": "2019-05-04T08:08:56.411163Z",
     "start_time": "2019-05-04T08:08:56.405234Z"
    }
   },
   "outputs": [
    {
     "name": "stdout",
     "output_type": "stream",
     "text": [
      "? ? ? said as a result of its december acquisition of space co it expects earnings per share in 1987 of 1 15 to 1 30 dlrs per share up from 70 cts in 1986 the company said pretax net should rise to nine to 10 mln dlrs from six mln dlrs in 1986 and rental operation revenues to 19 to 22 mln dlrs from 12 5 mln dlrs it said cash flow per share this year should be 2 50 to three dlrs reuter 3\n"
     ]
    }
   ],
   "source": [
    "# Get the real news data using reverse index\n",
    "decoded_newswire = ' '.join([reverse_word_index.get(i - 3, '?') for i in train_data[0]])\n",
    "\n",
    "print(decoded_newswire)"
   ]
  },
  {
   "cell_type": "code",
   "execution_count": 6,
   "metadata": {
    "ExecuteTime": {
     "end_time": "2019-05-04T08:08:57.146714Z",
     "start_time": "2019-05-04T08:08:56.414063Z"
    }
   },
   "outputs": [],
   "source": [
    "# Vectorize sequences\n",
    "def vectorize_sequences(sequences, dimension=10000):\n",
    "    # numpy zero-matrix to hold vectors\n",
    "    results = np.zeros((len(sequences), dimension))\n",
    "    # Iterate over the sequence\n",
    "    for i, sequence in enumerate(sequences):\n",
    "        # Assign value at index\n",
    "        results[i, sequence] = 1.\n",
    "    return results\n",
    "\n",
    "# Apply to train data\n",
    "x_train = vectorize_sequences(train_data)\n",
    "\n",
    "# Apply to test data\n",
    "x_test = vectorize_sequences(test_data)"
   ]
  },
  {
   "cell_type": "code",
   "execution_count": 7,
   "metadata": {
    "ExecuteTime": {
     "end_time": "2019-05-04T08:08:57.165066Z",
     "start_time": "2019-05-04T08:08:57.150486Z"
    }
   },
   "outputs": [
    {
     "name": "stdout",
     "output_type": "stream",
     "text": [
      "[0. 1. 1. ... 0. 0. 0.] [0. 1. 1. ... 0. 0. 0.]\n",
      "[0. 1. 1. ... 0. 0. 0.] [0. 1. 1. ... 0. 0. 0.]\n"
     ]
    }
   ],
   "source": [
    "print(x_train[0], x_train[1])\n",
    "\n",
    "print(x_test[0], x_test[1])"
   ]
  },
  {
   "cell_type": "code",
   "execution_count": 8,
   "metadata": {
    "ExecuteTime": {
     "end_time": "2019-05-04T08:08:57.209610Z",
     "start_time": "2019-05-04T08:08:57.174593Z"
    }
   },
   "outputs": [],
   "source": [
    "# Create one-hot vectors for the labels\n",
    "def to_one_hot(labels, dimension=46):\n",
    "    # Zero matrix t hold one-hot vectors\n",
    "    results = np.zeros((len(labels), dimension))\n",
    "    # Iterate through the labels\n",
    "    for i, label in enumerate(labels):\n",
    "        # Assign true at index\n",
    "        results[i, label] = 1.\n",
    "    return results\n",
    "\n",
    "# Apply to train labels\n",
    "one_hot_train_labels = to_one_hot(train_labels)\n",
    "\n",
    "# Apply to test labels\n",
    "one_hot_test_labels = to_one_hot(test_labels)"
   ]
  },
  {
   "cell_type": "code",
   "execution_count": 9,
   "metadata": {
    "ExecuteTime": {
     "end_time": "2019-05-04T08:08:57.221963Z",
     "start_time": "2019-05-04T08:08:57.213185Z"
    }
   },
   "outputs": [
    {
     "data": {
      "text/plain": [
       "(array([0., 0., 0., 1., 0., 0., 0., 0., 0., 0., 0., 0., 0., 0., 0., 0., 0.,\n",
       "        0., 0., 0., 0., 0., 0., 0., 0., 0., 0., 0., 0., 0., 0., 0., 0., 0.,\n",
       "        0., 0., 0., 0., 0., 0., 0., 0., 0., 0., 0., 0.]),\n",
       " array([0., 0., 0., 1., 0., 0., 0., 0., 0., 0., 0., 0., 0., 0., 0., 0., 0.,\n",
       "        0., 0., 0., 0., 0., 0., 0., 0., 0., 0., 0., 0., 0., 0., 0., 0., 0.,\n",
       "        0., 0., 0., 0., 0., 0., 0., 0., 0., 0., 0., 0.]))"
      ]
     },
     "execution_count": 9,
     "metadata": {},
     "output_type": "execute_result"
    }
   ],
   "source": [
    "one_hot_train_labels[0], one_hot_test_labels[0]"
   ]
  },
  {
   "cell_type": "markdown",
   "metadata": {},
   "source": [
    "**You can do the same using the built-in method.**"
   ]
  },
  {
   "cell_type": "code",
   "execution_count": 10,
   "metadata": {
    "ExecuteTime": {
     "end_time": "2019-05-04T08:08:57.229695Z",
     "start_time": "2019-05-04T08:08:57.224592Z"
    }
   },
   "outputs": [],
   "source": [
    "# Load packages\n",
    "from tensorflow.keras.utils import to_categorical"
   ]
  },
  {
   "cell_type": "code",
   "execution_count": 11,
   "metadata": {
    "ExecuteTime": {
     "end_time": "2019-05-04T08:08:57.246537Z",
     "start_time": "2019-05-04T08:08:57.234456Z"
    }
   },
   "outputs": [
    {
     "name": "stdout",
     "output_type": "stream",
     "text": [
      "[0. 0. 0. 1. 0. 0. 0. 0. 0. 0. 0. 0. 0. 0. 0. 0. 0. 0. 0. 0. 0. 0. 0. 0.\n",
      " 0. 0. 0. 0. 0. 0. 0. 0. 0. 0. 0. 0. 0. 0. 0. 0. 0. 0. 0. 0. 0. 0.] [0. 0. 0. 1. 0. 0. 0. 0. 0. 0. 0. 0. 0. 0. 0. 0. 0. 0. 0. 0. 0. 0. 0. 0.\n",
      " 0. 0. 0. 0. 0. 0. 0. 0. 0. 0. 0. 0. 0. 0. 0. 0. 0. 0. 0. 0. 0. 0.]\n"
     ]
    }
   ],
   "source": [
    "# Create one-hot vectors\n",
    "one_hot_train_labels = to_categorical(train_labels)\n",
    "\n",
    "one_hot_test_labels = to_categorical(test_labels)\n",
    "\n",
    "print(one_hot_train_labels[0], one_hot_test_labels[0])"
   ]
  },
  {
   "cell_type": "code",
   "execution_count": 12,
   "metadata": {
    "ExecuteTime": {
     "end_time": "2019-05-04T08:08:57.259408Z",
     "start_time": "2019-05-04T08:08:57.250411Z"
    }
   },
   "outputs": [
    {
     "name": "stdout",
     "output_type": "stream",
     "text": [
      "(1000, 10000) (1000, 46)\n",
      "(7982, 10000) (7982, 46)\n"
     ]
    }
   ],
   "source": [
    "# Split train data for validation\n",
    "x_val, x_train = x_train[:1000], x_train[1000: ]\n",
    "\n",
    "y_val, y_train = one_hot_train_labels[:1000], one_hot_train_labels[1000:]\n",
    "\n",
    "print(x_val.shape, y_val.shape)\n",
    "\n",
    "print(x_train.shape, y_train.shape)"
   ]
  },
  {
   "cell_type": "markdown",
   "metadata": {},
   "source": [
    "### Model"
   ]
  },
  {
   "cell_type": "code",
   "execution_count": 13,
   "metadata": {
    "ExecuteTime": {
     "end_time": "2019-05-04T08:08:57.271031Z",
     "start_time": "2019-05-04T08:08:57.261964Z"
    }
   },
   "outputs": [],
   "source": [
    "def mlp_model(depth, num_classes):\n",
    "    # Initiate a sequencial model\n",
    "    model = tf.keras.models.Sequential([\n",
    "        # Input layer\n",
    "        tf.keras.layers.Dense(depth, activation=\"relu\", input_shape=(10000,)),\n",
    "        # Hidden layer\n",
    "        tf.keras.layers.Dense(depth*2, activation=\"relu\"),\n",
    "        # Output layer\n",
    "        tf.keras.layers.Dense(num_classes, activation=\"softmax\")\n",
    "    ])\n",
    "    # Compile model\n",
    "    model.compile(optimizer=\"rmsprop\",\n",
    "                  loss=\"categorical_crossentropy\",\n",
    "                  metrics=[\"accuracy\"])\n",
    "    return model"
   ]
  },
  {
   "cell_type": "code",
   "execution_count": 14,
   "metadata": {
    "ExecuteTime": {
     "end_time": "2019-05-04T08:09:16.139192Z",
     "start_time": "2019-05-04T08:08:57.274065Z"
    }
   },
   "outputs": [
    {
     "name": "stdout",
     "output_type": "stream",
     "text": [
      "WARNING:tensorflow:From /Users/nityansuman/anaconda3/lib/python3.7/site-packages/tensorflow/python/ops/resource_variable_ops.py:435: colocate_with (from tensorflow.python.framework.ops) is deprecated and will be removed in a future version.\n",
      "Instructions for updating:\n",
      "Colocations handled automatically by placer.\n",
      "Train on 7982 samples, validate on 1000 samples\n",
      "WARNING:tensorflow:From /Users/nityansuman/anaconda3/lib/python3.7/site-packages/tensorflow/python/ops/math_ops.py:3066: to_int32 (from tensorflow.python.ops.math_ops) is deprecated and will be removed in a future version.\n",
      "Instructions for updating:\n",
      "Use tf.cast instead.\n",
      "Epoch 1/10\n",
      "7982/7982 [==============================] - 2s 305us/sample - loss: 2.5122 - acc: 0.4857 - val_loss: 1.6953 - val_acc: 0.6350\n",
      "Epoch 2/10\n",
      "7982/7982 [==============================] - 2s 209us/sample - loss: 1.4338 - acc: 0.6939 - val_loss: 1.3252 - val_acc: 0.7070\n",
      "Epoch 3/10\n",
      "7982/7982 [==============================] - 2s 221us/sample - loss: 1.1013 - acc: 0.7655 - val_loss: 1.1544 - val_acc: 0.7460\n",
      "Epoch 4/10\n",
      "7982/7982 [==============================] - 2s 244us/sample - loss: 0.8792 - acc: 0.8146 - val_loss: 1.0888 - val_acc: 0.7560\n",
      "Epoch 5/10\n",
      "7982/7982 [==============================] - 2s 212us/sample - loss: 0.7056 - acc: 0.8469 - val_loss: 0.9819 - val_acc: 0.8030\n",
      "Epoch 6/10\n",
      "7982/7982 [==============================] - 2s 218us/sample - loss: 0.5659 - acc: 0.8758 - val_loss: 0.9266 - val_acc: 0.8080\n",
      "Epoch 7/10\n",
      "7982/7982 [==============================] - 2s 214us/sample - loss: 0.4574 - acc: 0.9000 - val_loss: 0.9078 - val_acc: 0.8130\n",
      "Epoch 8/10\n",
      "7982/7982 [==============================] - 2s 209us/sample - loss: 0.3752 - acc: 0.9168 - val_loss: 0.9078 - val_acc: 0.8080\n",
      "Epoch 9/10\n",
      "7982/7982 [==============================] - 2s 203us/sample - loss: 0.3080 - acc: 0.9320 - val_loss: 0.9242 - val_acc: 0.8040\n",
      "Epoch 10/10\n",
      "7982/7982 [==============================] - 2s 220us/sample - loss: 0.2625 - acc: 0.9394 - val_loss: 0.9468 - val_acc: 0.8110\n"
     ]
    }
   ],
   "source": [
    "# Train model and validate after each epoch\n",
    "model = mlp_model(depth=32, num_classes=46)\n",
    "\n",
    "history = model.fit(x_train,\n",
    "                    y_train,\n",
    "                    epochs=10,\n",
    "                    batch_size=256,\n",
    "                    validation_data=(x_val, y_val))"
   ]
  },
  {
   "cell_type": "markdown",
   "metadata": {},
   "source": [
    "### Performance visualization"
   ]
  },
  {
   "cell_type": "code",
   "execution_count": 15,
   "metadata": {
    "ExecuteTime": {
     "end_time": "2019-05-04T08:09:16.394397Z",
     "start_time": "2019-05-04T08:09:16.141820Z"
    }
   },
   "outputs": [
    {
     "data": {
      "image/png": "[encoded data removed]",
      "text/plain": [
       "<Figure size 432x288 with 1 Axes>"
      ]
     },
     "metadata": {
      "needs_background": "light"
     },
     "output_type": "display_data"
    }
   ],
   "source": [
    "# Plot train loss vs validation loss\n",
    "loss = history.history[\"loss\"]\n",
    "val_loss = history.history[\"val_loss\"]\n",
    "\n",
    "# get epochs\n",
    "epochs = range(1, len(loss) + 1)\n",
    "\n",
    "plt.plot(epochs, loss, \"-\", label=\"Training loss\")\n",
    "plt.plot(epochs, val_loss, \"-\", label=\"Validation loss\")\n",
    "plt.title(\"Training and Validation loss\")\n",
    "plt.xlabel(\"Epochs\")\n",
    "plt.ylabel(\"Loss\")\n",
    "plt.legend()\n",
    "\n",
    "plt.show()"
   ]
  },
  {
   "cell_type": "code",
   "execution_count": 16,
   "metadata": {
    "ExecuteTime": {
     "end_time": "2019-05-04T08:09:16.647884Z",
     "start_time": "2019-05-04T08:09:16.397975Z"
    }
   },
   "outputs": [
    {
     "data": {
      "image/png": "[encoded data removed]",
      "text/plain": [
       "<Figure size 432x288 with 1 Axes>"
      ]
     },
     "metadata": {
      "needs_background": "light"
     },
     "output_type": "display_data"
    }
   ],
   "source": [
    "# Plot train accuracy vs Validation accuracy\n",
    "acc = history.history[\"acc\"]\n",
    "val_acc = history.history[\"val_acc\"]\n",
    "\n",
    "plt.plot(epochs, acc, \"-\", label=\"Training accuracy\")\n",
    "plt.plot(epochs, val_acc, \"-\", label=\"Validation accuracy\")\n",
    "plt.title(\"Training and Validation accuracy\")\n",
    "plt.xlabel(\"Epochs\")\n",
    "plt.ylabel(\"Accuracy\")\n",
    "plt.legend()\n",
    "\n",
    "plt.show()"
   ]
  },
  {
   "cell_type": "code",
   "execution_count": 17,
   "metadata": {
    "ExecuteTime": {
     "end_time": "2019-05-04T08:09:16.923079Z",
     "start_time": "2019-05-04T08:09:16.651009Z"
    }
   },
   "outputs": [
    {
     "name": "stdout",
     "output_type": "stream",
     "text": [
      "2246/2246 [==============================] - 0s 115us/sample - loss: 1.0218 - acc: 0.7836\n"
     ]
    },
    {
     "data": {
      "text/plain": [
       "'loss = 1.0217893153349418, and accuracy = 0.7836152911186218'"
      ]
     },
     "execution_count": 17,
     "metadata": {},
     "output_type": "execute_result"
    }
   ],
   "source": [
    "# evaluate on test set\n",
    "results = model.evaluate(x_test, one_hot_test_labels)\n",
    "\"loss = {}, and accuracy = {}\".format(results[0], results[1])"
   ]
  },
  {
   "cell_type": "markdown",
   "metadata": {},
   "source": [
    "**Our approach reaches an accuracy of ~78+%. With a balanced binary classification problem, the accuracy reached by a purely random classifier would be 50%, so our results seem pretty good, at least when compared to a random baseline.**"
   ]
  },
  {
   "cell_type": "code",
   "execution_count": null,
   "metadata": {},
   "outputs": [],
   "source": []
  }
 ],
 "metadata": {
  "kernelspec": {
   "display_name": "Python 3",
   "language": "python",
   "name": "python3"
  },
  "language_info": {
   "codemirror_mode": {
    "name": "ipython",
    "version": 3
   },
   "file_extension": ".py",
   "mimetype": "text/x-python",
   "name": "python",
   "nbconvert_exporter": "python",
   "pygments_lexer": "ipython3",
   "version": "3.7.3"
  }
 },
 "nbformat": 4,
 "nbformat_minor": 2
}
