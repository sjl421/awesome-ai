{
 "cells": [
  {
   "cell_type": "code",
   "execution_count": 1,
   "metadata": {
    "ExecuteTime": {
     "end_time": "2019-05-03T22:01:50.904033Z",
     "start_time": "2019-05-03T22:01:49.510624Z"
    }
   },
   "outputs": [
    {
     "data": {
      "text/plain": [
       "'1.13.1'"
      ]
     },
     "execution_count": 1,
     "metadata": {},
     "output_type": "execute_result"
    }
   ],
   "source": [
    "# Load packages\n",
    "import os\n",
    "import sys\n",
    "import numpy as np\n",
    "import tensorflow as tf\n",
    "\n",
    "tf.__version__"
   ]
  },
  {
   "cell_type": "code",
   "execution_count": 2,
   "metadata": {
    "ExecuteTime": {
     "end_time": "2019-05-03T22:01:50.976670Z",
     "start_time": "2019-05-03T22:01:50.906271Z"
    }
   },
   "outputs": [
    {
     "name": "stdout",
     "output_type": "stream",
     "text": [
      "WARNING:tensorflow:From /Users/nityansuman/anaconda3/lib/python3.7/site-packages/tensorflow/python/framework/op_def_library.py:263: colocate_with (from tensorflow.python.framework.ops) is deprecated and will be removed in a future version.\n",
      "Instructions for updating:\n",
      "Colocations handled automatically by placer.\n"
     ]
    }
   ],
   "source": [
    "# Initialize weights and bias\n",
    "weights = tf.Variable([[1]], dtype=tf.float32, name=\"weights\")\n",
    "bias = tf.Variable([[0.1]], dtype=tf.float32, name=\"bias\")\n",
    "\n",
    "# Placeholders for incoming data\n",
    "input_x = tf.placeholder(dtype=tf.float32, name=\"feature_x\") # Input feature\n",
    "output_y = tf.placeholder(dtype=tf.float32, name=\"output_y\") # Input target value\n",
    "\n",
    "# Core logic\n",
    "model = tf.add(tf.matmul(input_x, weights, name=\"model\"), bias)\n",
    "\n",
    "# Define MSE loss\n",
    "loss_function = tf.pow(x=output_y - model, y=2, name=\"loss_function\")\n",
    "\n",
    "# Gradient Descent optimizer to minimize loss\n",
    "optimizer = tf.train.GradientDescentOptimizer(learning_rate=0.01, name=\"GradientDescent\").minimize(loss=loss_function)"
   ]
  },
  {
   "cell_type": "code",
   "execution_count": 3,
   "metadata": {
    "ExecuteTime": {
     "end_time": "2019-05-03T22:01:51.056020Z",
     "start_time": "2019-05-03T22:01:50.979234Z"
    },
    "scrolled": true
   },
   "outputs": [
    {
     "name": "stdout",
     "output_type": "stream",
     "text": [
      "At epoch: 0 \n",
      "predicted value = [[1.1]\n",
      " [2.1]\n",
      " [3.1]\n",
      " [4.1]] \n",
      "actual value = [[2], [4], [6], [8]]\n",
      "\n",
      "\n",
      "At epoch: 10 \n",
      "predicted value = [[2.2307475]\n",
      " [4.111789 ]\n",
      " [5.9928308]\n",
      " [7.8738723]] \n",
      "actual value = [[2], [4], [6], [8]]\n",
      "\n",
      "\n",
      "At epoch: 20 \n",
      "predicted value = [[2.2045734]\n",
      " [4.0991297]\n",
      " [5.993686 ]\n",
      " [7.8882427]] \n",
      "actual value = [[2], [4], [6], [8]]\n",
      "\n",
      "\n",
      "At epoch: 30 \n",
      "predicted value = [[2.1813536]\n",
      " [4.087878 ]\n",
      " [5.9944034]\n",
      " [7.900928 ]] \n",
      "actual value = [[2], [4], [6], [8]]\n",
      "\n",
      "\n",
      "At epoch: 40 \n",
      "predicted value = [[2.160769 ]\n",
      " [4.0779037]\n",
      " [5.995038 ]\n",
      " [7.9121733]] \n",
      "actual value = [[2], [4], [6], [8]]\n",
      "\n",
      "\n"
     ]
    }
   ],
   "source": [
    "# Create a new session\n",
    "with tf.Session() as sess:\n",
    "    # Initialize global variables\n",
    "    sess.run(tf.global_variables_initializer())\n",
    "    # Start a graph writer\n",
    "    writer = tf.summary.FileWriter(\"graphs/single_neuron_model\", sess.graph)\n",
    "    # Run model\n",
    "    for i in range(50):\n",
    "        # Evaluate multiple tensors\n",
    "        _, predicted_y = sess.run([optimizer, model], feed_dict={input_x:[[1], [2], [3], [4]], output_y:[[2], [4], [6], [8]]})\n",
    "        if i % 10 == 0:\n",
    "            print(\"At epoch: {} \\npredicted value = {} \\nactual value = {}\\n\\n\".format(i, predicted_y, [[2], [4], [6], [8]]))\n",
    "    writer.close()"
   ]
  },
  {
   "cell_type": "markdown",
   "metadata": {},
   "source": [
    "**Use tensorboard to view graph : tensorboard --logdir=\"path_to_graphs\"**"
   ]
  },
  {
   "cell_type": "code",
   "execution_count": null,
   "metadata": {},
   "outputs": [],
   "source": []
  }
 ],
 "metadata": {
  "kernelspec": {
   "display_name": "Python 3",
   "language": "python",
   "name": "python3"
  },
  "language_info": {
   "codemirror_mode": {
    "name": "ipython",
    "version": 3
   },
   "file_extension": ".py",
   "mimetype": "text/x-python",
   "name": "python",
   "nbconvert_exporter": "python",
   "pygments_lexer": "ipython3",
   "version": "3.7.3"
  }
 },
 "nbformat": 4,
 "nbformat_minor": 2
}
