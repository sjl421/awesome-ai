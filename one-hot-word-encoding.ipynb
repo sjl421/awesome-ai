{
 "cells": [
  {
   "cell_type": "markdown",
   "metadata": {},
   "source": [
    "## One-hot encoding of words\n",
    "- - - -\n",
    "One-hot encoding is the most common, most basic way to turn a token into a vector. It consists in associating a unique integer index to every word, then \n",
    "turning this integer index i into a binary vector of size N, the size of the vocabulary, that would be all-zeros except for the i-th \n",
    "entry, which would be 1."
   ]
  },
  {
   "cell_type": "code",
   "execution_count": 1,
   "metadata": {
    "ExecuteTime": {
     "end_time": "2019-05-03T21:12:39.307434Z",
     "start_time": "2019-05-03T21:12:39.135029Z"
    }
   },
   "outputs": [],
   "source": [
    "# Load packages\n",
    "import numpy as np"
   ]
  },
  {
   "cell_type": "code",
   "execution_count": 2,
   "metadata": {
    "ExecuteTime": {
     "end_time": "2019-05-03T21:12:39.312219Z",
     "start_time": "2019-05-03T21:12:39.309581Z"
    }
   },
   "outputs": [],
   "source": [
    "# Random samples of text\n",
    "samples = [\"The cat sat on the mat.\", \"The dog ate my homework.\"]"
   ]
  },
  {
   "cell_type": "code",
   "execution_count": 3,
   "metadata": {
    "ExecuteTime": {
     "end_time": "2019-05-03T21:12:39.320895Z",
     "start_time": "2019-05-03T21:12:39.314912Z"
    }
   },
   "outputs": [
    {
     "name": "stdout",
     "output_type": "stream",
     "text": [
      "Number of unique words in the mapping = 10\n"
     ]
    }
   ],
   "source": [
    "# Create word-index mapping for each unique word in the sample text\n",
    "token_index = dict()\n",
    "\n",
    "for sample in samples:\n",
    "    word_tokens = sample.split() # Access words from sentences by simple split\n",
    "    for word in word_tokens:\n",
    "        if word not in token_index:\n",
    "            token_index[word] = len(token_index) # Update dictionary\n",
    "        else:\n",
    "            # If word already present do nothing\n",
    "            continue\n",
    "print(\"Number of unique words in the mapping = {}\".format(len(token_index)))"
   ]
  },
  {
   "cell_type": "code",
   "execution_count": 4,
   "metadata": {
    "ExecuteTime": {
     "end_time": "2019-05-03T21:12:39.331872Z",
     "start_time": "2019-05-03T21:12:39.323293Z"
    }
   },
   "outputs": [
    {
     "data": {
      "text/plain": [
       "{'The': 0,\n",
       " 'cat': 1,\n",
       " 'sat': 2,\n",
       " 'on': 3,\n",
       " 'the': 4,\n",
       " 'mat.': 5,\n",
       " 'dog': 6,\n",
       " 'ate': 7,\n",
       " 'my': 8,\n",
       " 'homework.': 9}"
      ]
     },
     "execution_count": 4,
     "metadata": {},
     "output_type": "execute_result"
    }
   ],
   "source": [
    "# Lets view the mapping just created\n",
    "token_index"
   ]
  },
  {
   "cell_type": "code",
   "execution_count": 5,
   "metadata": {
    "ExecuteTime": {
     "end_time": "2019-05-03T21:12:39.338999Z",
     "start_time": "2019-05-03T21:12:39.333158Z"
    }
   },
   "outputs": [],
   "source": [
    "max_num_words = 10 # Set maximum number of words in a sample\n",
    "\n",
    "# Create 3d array of all zeros to hold the one-hot vectors\n",
    "one_hot_encoded = np.zeros(shape=(len(samples), max_num_words, len(token_index)))\n",
    "\n",
    "# Iterate over samples and create one-hot vectors\n",
    "for i, sample in enumerate(samples):\n",
    "    word_tokens = samples[i].split()\n",
    "    for j, word in enumerate(word_tokens):\n",
    "        # Find the index of the word\n",
    "        index = token_index[word]\n",
    "        # Put 1 at that place and let all be 0\n",
    "        one_hot_encoded[i, j, index] = 1"
   ]
  },
  {
   "cell_type": "code",
   "execution_count": 6,
   "metadata": {
    "ExecuteTime": {
     "end_time": "2019-05-03T21:12:39.352039Z",
     "start_time": "2019-05-03T21:12:39.344298Z"
    }
   },
   "outputs": [
    {
     "data": {
      "text/plain": [
       "('The cat sat on the mat.', array([[1., 0., 0., 0., 0., 0., 0., 0., 0., 0.],\n",
       "        [0., 1., 0., 0., 0., 0., 0., 0., 0., 0.],\n",
       "        [0., 0., 1., 0., 0., 0., 0., 0., 0., 0.],\n",
       "        [0., 0., 0., 1., 0., 0., 0., 0., 0., 0.],\n",
       "        [0., 0., 0., 0., 1., 0., 0., 0., 0., 0.],\n",
       "        [0., 0., 0., 0., 0., 1., 0., 0., 0., 0.],\n",
       "        [0., 0., 0., 0., 0., 0., 0., 0., 0., 0.],\n",
       "        [0., 0., 0., 0., 0., 0., 0., 0., 0., 0.],\n",
       "        [0., 0., 0., 0., 0., 0., 0., 0., 0., 0.],\n",
       "        [0., 0., 0., 0., 0., 0., 0., 0., 0., 0.]]))"
      ]
     },
     "execution_count": 6,
     "metadata": {},
     "output_type": "execute_result"
    }
   ],
   "source": [
    "samples[0], one_hot_encoded[0]"
   ]
  },
  {
   "cell_type": "markdown",
   "metadata": {},
   "source": [
    "### Yeah!! Our one-hot word vectors!"
   ]
  },
  {
   "cell_type": "markdown",
   "metadata": {},
   "source": [
    "## Let's do the same using Keras API"
   ]
  },
  {
   "cell_type": "code",
   "execution_count": 7,
   "metadata": {
    "ExecuteTime": {
     "end_time": "2019-05-03T21:12:40.776793Z",
     "start_time": "2019-05-03T21:12:39.353503Z"
    }
   },
   "outputs": [
    {
     "data": {
      "text/plain": [
       "'1.13.1'"
      ]
     },
     "execution_count": 7,
     "metadata": {},
     "output_type": "execute_result"
    }
   ],
   "source": [
    "# Load packages\n",
    "import tensorflow as tf\n",
    "from tensorflow.keras.preprocessing.text import Tokenizer\n",
    "from tensorflow.keras.preprocessing.sequence import pad_sequences\n",
    "from tensorflow.keras.utils import to_categorical\n",
    "tf.__version__"
   ]
  },
  {
   "cell_type": "code",
   "execution_count": 8,
   "metadata": {
    "ExecuteTime": {
     "end_time": "2019-05-03T21:12:40.783063Z",
     "start_time": "2019-05-03T21:12:40.779576Z"
    }
   },
   "outputs": [],
   "source": [
    "# Initiate keras tokenizer\n",
    "tokenizer = Tokenizer(num_words=100, lower=False)\n",
    "\n",
    "tokenizer.fit_on_texts(samples) # Fit tokenizer on the entire data"
   ]
  },
  {
   "cell_type": "code",
   "execution_count": 9,
   "metadata": {
    "ExecuteTime": {
     "end_time": "2019-05-03T21:12:40.789638Z",
     "start_time": "2019-05-03T21:12:40.785488Z"
    }
   },
   "outputs": [
    {
     "name": "stdout",
     "output_type": "stream",
     "text": [
      "[1, 2, 3, 4, 5, 6] [1, 7, 8, 9, 10]\n"
     ]
    }
   ],
   "source": [
    "# Generate sequences from train data\n",
    "sequences = tokenizer.texts_to_sequences(samples)\n",
    "\n",
    "print(sequences[0], sequences[1])"
   ]
  },
  {
   "cell_type": "code",
   "execution_count": 10,
   "metadata": {
    "ExecuteTime": {
     "end_time": "2019-05-03T21:12:40.861431Z",
     "start_time": "2019-05-03T21:12:40.791217Z"
    }
   },
   "outputs": [
    {
     "name": "stdout",
     "output_type": "stream",
     "text": [
      "(2, 100)\n",
      "[0. 1. 1. 1. 1. 1. 1. 0. 0. 0. 0. 0. 0. 0. 0. 0. 0. 0. 0. 0. 0. 0. 0. 0.\n",
      " 0. 0. 0. 0. 0. 0. 0. 0. 0. 0. 0. 0. 0. 0. 0. 0. 0. 0. 0. 0. 0. 0. 0. 0.\n",
      " 0. 0. 0. 0. 0. 0. 0. 0. 0. 0. 0. 0. 0. 0. 0. 0. 0. 0. 0. 0. 0. 0. 0. 0.\n",
      " 0. 0. 0. 0. 0. 0. 0. 0. 0. 0. 0. 0. 0. 0. 0. 0. 0. 0. 0. 0. 0. 0. 0. 0.\n",
      " 0. 0. 0. 0.]\n",
      "[0. 1. 0. 0. 0. 0. 0. 1. 1. 1. 1. 0. 0. 0. 0. 0. 0. 0. 0. 0. 0. 0. 0. 0.\n",
      " 0. 0. 0. 0. 0. 0. 0. 0. 0. 0. 0. 0. 0. 0. 0. 0. 0. 0. 0. 0. 0. 0. 0. 0.\n",
      " 0. 0. 0. 0. 0. 0. 0. 0. 0. 0. 0. 0. 0. 0. 0. 0. 0. 0. 0. 0. 0. 0. 0. 0.\n",
      " 0. 0. 0. 0. 0. 0. 0. 0. 0. 0. 0. 0. 0. 0. 0. 0. 0. 0. 0. 0. 0. 0. 0. 0.\n",
      " 0. 0. 0. 0.]\n"
     ]
    }
   ],
   "source": [
    "# Generate one-hot vector matrix\n",
    "one_hot_encoded_keras = tokenizer.texts_to_matrix(samples, mode=\"binary\")\n",
    "\n",
    "print(one_hot_encoded_keras.shape)\n",
    "\n",
    "print(one_hot_encoded_keras[0])\n",
    "print(one_hot_encoded_keras[1])"
   ]
  },
  {
   "cell_type": "code",
   "execution_count": 11,
   "metadata": {
    "ExecuteTime": {
     "end_time": "2019-05-03T21:12:40.868912Z",
     "start_time": "2019-05-03T21:12:40.864411Z"
    }
   },
   "outputs": [
    {
     "name": "stdout",
     "output_type": "stream",
     "text": [
      "Number of unique words in vocab = 10\n",
      "{'The': 1, 'cat': 2, 'sat': 3, 'on': 4, 'the': 5, 'mat': 6, 'dog': 7, 'ate': 8, 'my': 9, 'homework': 10}\n"
     ]
    }
   ],
   "source": [
    "# Now get the word-index mapping for further use\n",
    "word_index_keras = tokenizer.word_index\n",
    "\n",
    "print(\"Number of unique words in vocab = {}\".format(len(word_index_keras)))\n",
    "\n",
    "print(word_index_keras)"
   ]
  },
  {
   "cell_type": "markdown",
   "metadata": {},
   "source": [
    "### Hurray!! Done."
   ]
  },
  {
   "cell_type": "code",
   "execution_count": null,
   "metadata": {},
   "outputs": [],
   "source": []
  }
 ],
 "metadata": {
  "kernelspec": {
   "display_name": "Python 3",
   "language": "python",
   "name": "python3"
  },
  "language_info": {
   "codemirror_mode": {
    "name": "ipython",
    "version": 3
   },
   "file_extension": ".py",
   "mimetype": "text/x-python",
   "name": "python",
   "nbconvert_exporter": "python",
   "pygments_lexer": "ipython3",
   "version": "3.7.3"
  }
 },
 "nbformat": 4,
 "nbformat_minor": 2
}
